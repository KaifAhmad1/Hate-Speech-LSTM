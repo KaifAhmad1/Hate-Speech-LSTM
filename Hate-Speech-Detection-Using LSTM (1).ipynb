{
 "cells": [
  {
   "cell_type": "markdown",
   "id": "af89bc1b-2de7-46f6-89a3-2c42ed4c1cce",
   "metadata": {},
   "source": [
    "**0 - hate speech | 1 - offensive language | 2 - neither**\r\n"
   ]
  },
  {
   "cell_type": "code",
   "execution_count": 1,
   "id": "63c1d58d-8ad7-4490-96c3-31e082aed58c",
   "metadata": {},
   "outputs": [],
   "source": [
    "import os \n",
    "import numpy as np \n",
    "import pandas as pd \n",
    "import nltk \n",
    "import re \n",
    "import matplotlib.pyplot as plt \n",
    "import seaborn as sns "
   ]
  },
  {
   "cell_type": "code",
   "execution_count": 2,
   "id": "4eea6a4c-9c56-41f8-a09f-b18d210afecd",
   "metadata": {},
   "outputs": [],
   "source": [
    "# Reading the Dataset from Drive:\n",
    "file_path = 'C:\\\\Users\\\\Mohd Kaif\\\\Downloads\\\\hate_speech_data.csv'\n",
    "df = pd.read_csv(file_path)"
   ]
  },
  {
   "cell_type": "code",
   "execution_count": 3,
   "id": "c6bdcadc-997c-4a90-a849-f8f64eb87528",
   "metadata": {},
   "outputs": [],
   "source": [
    "# Extract text and class columns into lists\n",
    "text = df['tweet'].tolist()\n",
    "clas = df['class'].tolist()"
   ]
  },
  {
   "cell_type": "code",
   "execution_count": 4,
   "id": "78d241f1-ea21-4c5f-86e9-bbe3b97e50b3",
   "metadata": {},
   "outputs": [],
   "source": [
    "# Create a new DataFrame for easy text processing\n",
    "new_df = pd.DataFrame({'tweet': text, 'class': clas})"
   ]
  },
  {
   "cell_type": "code",
   "execution_count": 5,
   "id": "d0835cca-684a-43ad-8a2d-df62ba0bfef7",
   "metadata": {},
   "outputs": [
    {
     "data": {
      "text/html": [
       "<div>\n",
       "<style scoped>\n",
       "    .dataframe tbody tr th:only-of-type {\n",
       "        vertical-align: middle;\n",
       "    }\n",
       "\n",
       "    .dataframe tbody tr th {\n",
       "        vertical-align: top;\n",
       "    }\n",
       "\n",
       "    .dataframe thead th {\n",
       "        text-align: right;\n",
       "    }\n",
       "</style>\n",
       "<table border=\"1\" class=\"dataframe\">\n",
       "  <thead>\n",
       "    <tr style=\"text-align: right;\">\n",
       "      <th></th>\n",
       "      <th>Unnamed: 0</th>\n",
       "      <th>count</th>\n",
       "      <th>hate_speech</th>\n",
       "      <th>offensive_language</th>\n",
       "      <th>neither</th>\n",
       "      <th>class</th>\n",
       "      <th>tweet</th>\n",
       "    </tr>\n",
       "  </thead>\n",
       "  <tbody>\n",
       "    <tr>\n",
       "      <th>0</th>\n",
       "      <td>0</td>\n",
       "      <td>3</td>\n",
       "      <td>0</td>\n",
       "      <td>0</td>\n",
       "      <td>3</td>\n",
       "      <td>2</td>\n",
       "      <td>!!! RT @mayasolovely: As a woman you shouldn't...</td>\n",
       "    </tr>\n",
       "    <tr>\n",
       "      <th>1</th>\n",
       "      <td>1</td>\n",
       "      <td>3</td>\n",
       "      <td>0</td>\n",
       "      <td>3</td>\n",
       "      <td>0</td>\n",
       "      <td>1</td>\n",
       "      <td>!!!!! RT @mleew17: boy dats cold...tyga dwn ba...</td>\n",
       "    </tr>\n",
       "    <tr>\n",
       "      <th>2</th>\n",
       "      <td>2</td>\n",
       "      <td>3</td>\n",
       "      <td>0</td>\n",
       "      <td>3</td>\n",
       "      <td>0</td>\n",
       "      <td>1</td>\n",
       "      <td>!!!!!!! RT @UrKindOfBrand Dawg!!!! RT @80sbaby...</td>\n",
       "    </tr>\n",
       "    <tr>\n",
       "      <th>3</th>\n",
       "      <td>3</td>\n",
       "      <td>3</td>\n",
       "      <td>0</td>\n",
       "      <td>2</td>\n",
       "      <td>1</td>\n",
       "      <td>1</td>\n",
       "      <td>!!!!!!!!! RT @C_G_Anderson: @viva_based she lo...</td>\n",
       "    </tr>\n",
       "    <tr>\n",
       "      <th>4</th>\n",
       "      <td>4</td>\n",
       "      <td>6</td>\n",
       "      <td>0</td>\n",
       "      <td>6</td>\n",
       "      <td>0</td>\n",
       "      <td>1</td>\n",
       "      <td>!!!!!!!!!!!!! RT @ShenikaRoberts: The shit you...</td>\n",
       "    </tr>\n",
       "    <tr>\n",
       "      <th>...</th>\n",
       "      <td>...</td>\n",
       "      <td>...</td>\n",
       "      <td>...</td>\n",
       "      <td>...</td>\n",
       "      <td>...</td>\n",
       "      <td>...</td>\n",
       "      <td>...</td>\n",
       "    </tr>\n",
       "    <tr>\n",
       "      <th>24778</th>\n",
       "      <td>25291</td>\n",
       "      <td>3</td>\n",
       "      <td>0</td>\n",
       "      <td>2</td>\n",
       "      <td>1</td>\n",
       "      <td>1</td>\n",
       "      <td>you's a muthaf***in lie &amp;#8220;@LifeAsKing: @2...</td>\n",
       "    </tr>\n",
       "    <tr>\n",
       "      <th>24779</th>\n",
       "      <td>25292</td>\n",
       "      <td>3</td>\n",
       "      <td>0</td>\n",
       "      <td>1</td>\n",
       "      <td>2</td>\n",
       "      <td>2</td>\n",
       "      <td>you've gone and broke the wrong heart baby, an...</td>\n",
       "    </tr>\n",
       "    <tr>\n",
       "      <th>24780</th>\n",
       "      <td>25294</td>\n",
       "      <td>3</td>\n",
       "      <td>0</td>\n",
       "      <td>3</td>\n",
       "      <td>0</td>\n",
       "      <td>1</td>\n",
       "      <td>young buck wanna eat!!.. dat nigguh like I ain...</td>\n",
       "    </tr>\n",
       "    <tr>\n",
       "      <th>24781</th>\n",
       "      <td>25295</td>\n",
       "      <td>6</td>\n",
       "      <td>0</td>\n",
       "      <td>6</td>\n",
       "      <td>0</td>\n",
       "      <td>1</td>\n",
       "      <td>youu got wild bitches tellin you lies</td>\n",
       "    </tr>\n",
       "    <tr>\n",
       "      <th>24782</th>\n",
       "      <td>25296</td>\n",
       "      <td>3</td>\n",
       "      <td>0</td>\n",
       "      <td>0</td>\n",
       "      <td>3</td>\n",
       "      <td>2</td>\n",
       "      <td>~~Ruffled | Ntac Eileen Dahlia - Beautiful col...</td>\n",
       "    </tr>\n",
       "  </tbody>\n",
       "</table>\n",
       "<p>24783 rows × 7 columns</p>\n",
       "</div>"
      ],
      "text/plain": [
       "       Unnamed: 0  count  hate_speech  offensive_language  neither  class  \\\n",
       "0               0      3            0                   0        3      2   \n",
       "1               1      3            0                   3        0      1   \n",
       "2               2      3            0                   3        0      1   \n",
       "3               3      3            0                   2        1      1   \n",
       "4               4      6            0                   6        0      1   \n",
       "...           ...    ...          ...                 ...      ...    ...   \n",
       "24778       25291      3            0                   2        1      1   \n",
       "24779       25292      3            0                   1        2      2   \n",
       "24780       25294      3            0                   3        0      1   \n",
       "24781       25295      6            0                   6        0      1   \n",
       "24782       25296      3            0                   0        3      2   \n",
       "\n",
       "                                                   tweet  \n",
       "0      !!! RT @mayasolovely: As a woman you shouldn't...  \n",
       "1      !!!!! RT @mleew17: boy dats cold...tyga dwn ba...  \n",
       "2      !!!!!!! RT @UrKindOfBrand Dawg!!!! RT @80sbaby...  \n",
       "3      !!!!!!!!! RT @C_G_Anderson: @viva_based she lo...  \n",
       "4      !!!!!!!!!!!!! RT @ShenikaRoberts: The shit you...  \n",
       "...                                                  ...  \n",
       "24778  you's a muthaf***in lie &#8220;@LifeAsKing: @2...  \n",
       "24779  you've gone and broke the wrong heart baby, an...  \n",
       "24780  young buck wanna eat!!.. dat nigguh like I ain...  \n",
       "24781              youu got wild bitches tellin you lies  \n",
       "24782  ~~Ruffled | Ntac Eileen Dahlia - Beautiful col...  \n",
       "\n",
       "[24783 rows x 7 columns]"
      ]
     },
     "execution_count": 5,
     "metadata": {},
     "output_type": "execute_result"
    }
   ],
   "source": [
    "df"
   ]
  },
  {
   "cell_type": "code",
   "execution_count": 6,
   "id": "d30567a9-a75d-485e-a3e5-8bf5ae9e9347",
   "metadata": {},
   "outputs": [],
   "source": [
    "text = []\n",
    "clas = []"
   ]
  },
  {
   "cell_type": "code",
   "execution_count": 7,
   "id": "6e90995b-05e8-4705-9fb7-79c70c504d53",
   "metadata": {},
   "outputs": [],
   "source": [
    "text = df['tweet'].tolist()\n",
    "clas = df['class'].tolist()"
   ]
  },
  {
   "cell_type": "code",
   "execution_count": 8,
   "id": "c09a03a8-4328-4d4d-84ac-d8ef9ed7cc20",
   "metadata": {},
   "outputs": [
    {
     "data": {
      "text/html": [
       "<div>\n",
       "<style scoped>\n",
       "    .dataframe tbody tr th:only-of-type {\n",
       "        vertical-align: middle;\n",
       "    }\n",
       "\n",
       "    .dataframe tbody tr th {\n",
       "        vertical-align: top;\n",
       "    }\n",
       "\n",
       "    .dataframe thead th {\n",
       "        text-align: right;\n",
       "    }\n",
       "</style>\n",
       "<table border=\"1\" class=\"dataframe\">\n",
       "  <thead>\n",
       "    <tr style=\"text-align: right;\">\n",
       "      <th></th>\n",
       "      <th>Unnamed: 0</th>\n",
       "      <th>count</th>\n",
       "      <th>hate_speech</th>\n",
       "      <th>offensive_language</th>\n",
       "      <th>neither</th>\n",
       "      <th>class</th>\n",
       "      <th>tweet</th>\n",
       "    </tr>\n",
       "  </thead>\n",
       "  <tbody>\n",
       "    <tr>\n",
       "      <th>0</th>\n",
       "      <td>0</td>\n",
       "      <td>3</td>\n",
       "      <td>0</td>\n",
       "      <td>0</td>\n",
       "      <td>3</td>\n",
       "      <td>2</td>\n",
       "      <td>!!! RT @mayasolovely: As a woman you shouldn't...</td>\n",
       "    </tr>\n",
       "    <tr>\n",
       "      <th>1</th>\n",
       "      <td>1</td>\n",
       "      <td>3</td>\n",
       "      <td>0</td>\n",
       "      <td>3</td>\n",
       "      <td>0</td>\n",
       "      <td>1</td>\n",
       "      <td>!!!!! RT @mleew17: boy dats cold...tyga dwn ba...</td>\n",
       "    </tr>\n",
       "    <tr>\n",
       "      <th>2</th>\n",
       "      <td>2</td>\n",
       "      <td>3</td>\n",
       "      <td>0</td>\n",
       "      <td>3</td>\n",
       "      <td>0</td>\n",
       "      <td>1</td>\n",
       "      <td>!!!!!!! RT @UrKindOfBrand Dawg!!!! RT @80sbaby...</td>\n",
       "    </tr>\n",
       "    <tr>\n",
       "      <th>3</th>\n",
       "      <td>3</td>\n",
       "      <td>3</td>\n",
       "      <td>0</td>\n",
       "      <td>2</td>\n",
       "      <td>1</td>\n",
       "      <td>1</td>\n",
       "      <td>!!!!!!!!! RT @C_G_Anderson: @viva_based she lo...</td>\n",
       "    </tr>\n",
       "    <tr>\n",
       "      <th>4</th>\n",
       "      <td>4</td>\n",
       "      <td>6</td>\n",
       "      <td>0</td>\n",
       "      <td>6</td>\n",
       "      <td>0</td>\n",
       "      <td>1</td>\n",
       "      <td>!!!!!!!!!!!!! RT @ShenikaRoberts: The shit you...</td>\n",
       "    </tr>\n",
       "  </tbody>\n",
       "</table>\n",
       "</div>"
      ],
      "text/plain": [
       "   Unnamed: 0  count  hate_speech  offensive_language  neither  class  \\\n",
       "0           0      3            0                   0        3      2   \n",
       "1           1      3            0                   3        0      1   \n",
       "2           2      3            0                   3        0      1   \n",
       "3           3      3            0                   2        1      1   \n",
       "4           4      6            0                   6        0      1   \n",
       "\n",
       "                                               tweet  \n",
       "0  !!! RT @mayasolovely: As a woman you shouldn't...  \n",
       "1  !!!!! RT @mleew17: boy dats cold...tyga dwn ba...  \n",
       "2  !!!!!!! RT @UrKindOfBrand Dawg!!!! RT @80sbaby...  \n",
       "3  !!!!!!!!! RT @C_G_Anderson: @viva_based she lo...  \n",
       "4  !!!!!!!!!!!!! RT @ShenikaRoberts: The shit you...  "
      ]
     },
     "execution_count": 8,
     "metadata": {},
     "output_type": "execute_result"
    }
   ],
   "source": [
    "df.head()"
   ]
  },
  {
   "cell_type": "code",
   "execution_count": 9,
   "id": "aee7775f-fee5-4143-811d-52fcc038aabd",
   "metadata": {},
   "outputs": [],
   "source": [
    "df = pd.DataFrame({'tweet': text, 'class': clas})"
   ]
  },
  {
   "cell_type": "code",
   "execution_count": 10,
   "id": "4269539f-a245-41b4-926c-060f24d0f1ab",
   "metadata": {},
   "outputs": [
    {
     "data": {
      "text/html": [
       "<div>\n",
       "<style scoped>\n",
       "    .dataframe tbody tr th:only-of-type {\n",
       "        vertical-align: middle;\n",
       "    }\n",
       "\n",
       "    .dataframe tbody tr th {\n",
       "        vertical-align: top;\n",
       "    }\n",
       "\n",
       "    .dataframe thead th {\n",
       "        text-align: right;\n",
       "    }\n",
       "</style>\n",
       "<table border=\"1\" class=\"dataframe\">\n",
       "  <thead>\n",
       "    <tr style=\"text-align: right;\">\n",
       "      <th></th>\n",
       "      <th>tweet</th>\n",
       "      <th>class</th>\n",
       "    </tr>\n",
       "  </thead>\n",
       "  <tbody>\n",
       "    <tr>\n",
       "      <th>0</th>\n",
       "      <td>!!! RT @mayasolovely: As a woman you shouldn't...</td>\n",
       "      <td>2</td>\n",
       "    </tr>\n",
       "    <tr>\n",
       "      <th>1</th>\n",
       "      <td>!!!!! RT @mleew17: boy dats cold...tyga dwn ba...</td>\n",
       "      <td>1</td>\n",
       "    </tr>\n",
       "    <tr>\n",
       "      <th>2</th>\n",
       "      <td>!!!!!!! RT @UrKindOfBrand Dawg!!!! RT @80sbaby...</td>\n",
       "      <td>1</td>\n",
       "    </tr>\n",
       "    <tr>\n",
       "      <th>3</th>\n",
       "      <td>!!!!!!!!! RT @C_G_Anderson: @viva_based she lo...</td>\n",
       "      <td>1</td>\n",
       "    </tr>\n",
       "    <tr>\n",
       "      <th>4</th>\n",
       "      <td>!!!!!!!!!!!!! RT @ShenikaRoberts: The shit you...</td>\n",
       "      <td>1</td>\n",
       "    </tr>\n",
       "  </tbody>\n",
       "</table>\n",
       "</div>"
      ],
      "text/plain": [
       "                                               tweet  class\n",
       "0  !!! RT @mayasolovely: As a woman you shouldn't...      2\n",
       "1  !!!!! RT @mleew17: boy dats cold...tyga dwn ba...      1\n",
       "2  !!!!!!! RT @UrKindOfBrand Dawg!!!! RT @80sbaby...      1\n",
       "3  !!!!!!!!! RT @C_G_Anderson: @viva_based she lo...      1\n",
       "4  !!!!!!!!!!!!! RT @ShenikaRoberts: The shit you...      1"
      ]
     },
     "execution_count": 10,
     "metadata": {},
     "output_type": "execute_result"
    }
   ],
   "source": [
    "df.head()"
   ]
  },
  {
   "cell_type": "code",
   "execution_count": 11,
   "id": "e92bc15c-3dd3-47bf-b386-bf4cef4ada16",
   "metadata": {},
   "outputs": [
    {
     "name": "stdout",
     "output_type": "stream",
     "text": [
      "Unique values in the 'class' column:\n",
      "[2 1 0]\n"
     ]
    }
   ],
   "source": [
    "# Display unique values in the \"class\" column\n",
    "unique_classes = df['class'].unique()\n",
    "print(\"Unique values in the 'class' column:\")\n",
    "print(unique_classes)"
   ]
  },
  {
   "cell_type": "code",
   "execution_count": 12,
   "id": "bdb9c49d-2679-4ec4-a076-bd674a4ab2ea",
   "metadata": {},
   "outputs": [
    {
     "name": "stdout",
     "output_type": "stream",
     "text": [
      "Class Label Descriptions:\n",
      "1    19190\n",
      "2     4163\n",
      "0     1430\n",
      "Name: class, dtype: int64\n"
     ]
    }
   ],
   "source": [
    "# Display unique values and their counts in the \"class\" column\n",
    "class_counts = df['class'].value_counts()\n",
    "print(\"Class Label Descriptions:\")\n",
    "print(class_counts)"
   ]
  },
  {
   "cell_type": "code",
   "execution_count": 13,
   "id": "34064d62-16bb-4ca2-995d-c4c74635a526",
   "metadata": {},
   "outputs": [
    {
     "name": "stdout",
     "output_type": "stream",
     "text": [
      "tweet    0\n",
      "class    0\n",
      "dtype: int64\n"
     ]
    }
   ],
   "source": [
    "# Checking for Null Value:\n",
    "print(df.isnull().sum())"
   ]
  },
  {
   "cell_type": "code",
   "execution_count": 14,
   "id": "93b0a1d2-e7f4-460a-b444-a87a808406b7",
   "metadata": {},
   "outputs": [],
   "source": [
    "# Convert the 'tweet' column to lowercase\n",
    "df['tweet'] = df['tweet'].str.lower()"
   ]
  },
  {
   "cell_type": "code",
   "execution_count": 15,
   "id": "6bb5cea1-7274-4291-b505-8ad651962d47",
   "metadata": {},
   "outputs": [
    {
     "data": {
      "text/html": [
       "<div>\n",
       "<style scoped>\n",
       "    .dataframe tbody tr th:only-of-type {\n",
       "        vertical-align: middle;\n",
       "    }\n",
       "\n",
       "    .dataframe tbody tr th {\n",
       "        vertical-align: top;\n",
       "    }\n",
       "\n",
       "    .dataframe thead th {\n",
       "        text-align: right;\n",
       "    }\n",
       "</style>\n",
       "<table border=\"1\" class=\"dataframe\">\n",
       "  <thead>\n",
       "    <tr style=\"text-align: right;\">\n",
       "      <th></th>\n",
       "      <th>tweet</th>\n",
       "      <th>class</th>\n",
       "    </tr>\n",
       "  </thead>\n",
       "  <tbody>\n",
       "    <tr>\n",
       "      <th>0</th>\n",
       "      <td>!!! rt @mayasolovely: as a woman you shouldn't...</td>\n",
       "      <td>2</td>\n",
       "    </tr>\n",
       "    <tr>\n",
       "      <th>1</th>\n",
       "      <td>!!!!! rt @mleew17: boy dats cold...tyga dwn ba...</td>\n",
       "      <td>1</td>\n",
       "    </tr>\n",
       "    <tr>\n",
       "      <th>2</th>\n",
       "      <td>!!!!!!! rt @urkindofbrand dawg!!!! rt @80sbaby...</td>\n",
       "      <td>1</td>\n",
       "    </tr>\n",
       "    <tr>\n",
       "      <th>3</th>\n",
       "      <td>!!!!!!!!! rt @c_g_anderson: @viva_based she lo...</td>\n",
       "      <td>1</td>\n",
       "    </tr>\n",
       "    <tr>\n",
       "      <th>4</th>\n",
       "      <td>!!!!!!!!!!!!! rt @shenikaroberts: the shit you...</td>\n",
       "      <td>1</td>\n",
       "    </tr>\n",
       "  </tbody>\n",
       "</table>\n",
       "</div>"
      ],
      "text/plain": [
       "                                               tweet  class\n",
       "0  !!! rt @mayasolovely: as a woman you shouldn't...      2\n",
       "1  !!!!! rt @mleew17: boy dats cold...tyga dwn ba...      1\n",
       "2  !!!!!!! rt @urkindofbrand dawg!!!! rt @80sbaby...      1\n",
       "3  !!!!!!!!! rt @c_g_anderson: @viva_based she lo...      1\n",
       "4  !!!!!!!!!!!!! rt @shenikaroberts: the shit you...      1"
      ]
     },
     "execution_count": 15,
     "metadata": {},
     "output_type": "execute_result"
    }
   ],
   "source": [
    "df.head()"
   ]
  },
  {
   "cell_type": "code",
   "execution_count": 16,
   "id": "02313b40-c07d-4cb8-9749-e5e9542fb438",
   "metadata": {},
   "outputs": [],
   "source": [
    "import string\n",
    "punctuation_signs = string.punctuation\n",
    "# Remove punctuation from the 'tweet' column\n",
    "df['tweet'] = df['tweet'].apply(lambda x: ''.join(ch for ch in x if ch not in set(punctuation_signs)))"
   ]
  },
  {
   "cell_type": "code",
   "execution_count": 17,
   "id": "7c2e78e2-8c62-4321-8abc-9980bfd4860a",
   "metadata": {},
   "outputs": [
    {
     "data": {
      "text/html": [
       "<div>\n",
       "<style scoped>\n",
       "    .dataframe tbody tr th:only-of-type {\n",
       "        vertical-align: middle;\n",
       "    }\n",
       "\n",
       "    .dataframe tbody tr th {\n",
       "        vertical-align: top;\n",
       "    }\n",
       "\n",
       "    .dataframe thead th {\n",
       "        text-align: right;\n",
       "    }\n",
       "</style>\n",
       "<table border=\"1\" class=\"dataframe\">\n",
       "  <thead>\n",
       "    <tr style=\"text-align: right;\">\n",
       "      <th></th>\n",
       "      <th>tweet</th>\n",
       "      <th>class</th>\n",
       "    </tr>\n",
       "  </thead>\n",
       "  <tbody>\n",
       "    <tr>\n",
       "      <th>0</th>\n",
       "      <td>rt mayasolovely as a woman you shouldnt compl...</td>\n",
       "      <td>2</td>\n",
       "    </tr>\n",
       "    <tr>\n",
       "      <th>1</th>\n",
       "      <td>rt mleew17 boy dats coldtyga dwn bad for cuff...</td>\n",
       "      <td>1</td>\n",
       "    </tr>\n",
       "    <tr>\n",
       "      <th>2</th>\n",
       "      <td>rt urkindofbrand dawg rt 80sbaby4life you eve...</td>\n",
       "      <td>1</td>\n",
       "    </tr>\n",
       "    <tr>\n",
       "      <th>3</th>\n",
       "      <td>rt cganderson vivabased she look like a tranny</td>\n",
       "      <td>1</td>\n",
       "    </tr>\n",
       "    <tr>\n",
       "      <th>4</th>\n",
       "      <td>rt shenikaroberts the shit you hear about me ...</td>\n",
       "      <td>1</td>\n",
       "    </tr>\n",
       "  </tbody>\n",
       "</table>\n",
       "</div>"
      ],
      "text/plain": [
       "                                               tweet  class\n",
       "0   rt mayasolovely as a woman you shouldnt compl...      2\n",
       "1   rt mleew17 boy dats coldtyga dwn bad for cuff...      1\n",
       "2   rt urkindofbrand dawg rt 80sbaby4life you eve...      1\n",
       "3     rt cganderson vivabased she look like a tranny      1\n",
       "4   rt shenikaroberts the shit you hear about me ...      1"
      ]
     },
     "execution_count": 17,
     "metadata": {},
     "output_type": "execute_result"
    }
   ],
   "source": [
    "df.head()"
   ]
  },
  {
   "cell_type": "code",
   "execution_count": 18,
   "id": "734153bf-35cd-44a3-a313-fd499ad91278",
   "metadata": {},
   "outputs": [],
   "source": [
    "import re\n",
    "# Define a function to clean text\n",
    "def clean_text(text):\n",
    "    # Replace '\\n' and '\\t' with a space\n",
    "    text = text.replace('\\n', ' ').replace('\\t', ' ')\n",
    "    # Replace multiple spaces with a single space using regex\n",
    "    text = re.sub(r'\\s+', ' ', text)\n",
    "    # Remove double and single quotes\n",
    "    text = text.replace('\"', '').replace(\"'\", '')\n",
    "    # Remove possessive \"'s\"\n",
    "    text = text.replace(\"'s\", \"\")\n",
    "    return text\n",
    "# Apply the cleaning function to the 'tweet' column\n",
    "df['tweet'] = df['tweet'].apply(clean_text)"
   ]
  },
  {
   "cell_type": "code",
   "execution_count": 19,
   "id": "01c3d9e3-ab56-4115-8db5-71c8b249ce2b",
   "metadata": {},
   "outputs": [
    {
     "data": {
      "text/html": [
       "<div>\n",
       "<style scoped>\n",
       "    .dataframe tbody tr th:only-of-type {\n",
       "        vertical-align: middle;\n",
       "    }\n",
       "\n",
       "    .dataframe tbody tr th {\n",
       "        vertical-align: top;\n",
       "    }\n",
       "\n",
       "    .dataframe thead th {\n",
       "        text-align: right;\n",
       "    }\n",
       "</style>\n",
       "<table border=\"1\" class=\"dataframe\">\n",
       "  <thead>\n",
       "    <tr style=\"text-align: right;\">\n",
       "      <th></th>\n",
       "      <th>tweet</th>\n",
       "      <th>class</th>\n",
       "    </tr>\n",
       "  </thead>\n",
       "  <tbody>\n",
       "    <tr>\n",
       "      <th>0</th>\n",
       "      <td>rt mayasolovely as a woman you shouldnt compl...</td>\n",
       "      <td>2</td>\n",
       "    </tr>\n",
       "    <tr>\n",
       "      <th>1</th>\n",
       "      <td>rt mleew17 boy dats coldtyga dwn bad for cuff...</td>\n",
       "      <td>1</td>\n",
       "    </tr>\n",
       "    <tr>\n",
       "      <th>2</th>\n",
       "      <td>rt urkindofbrand dawg rt 80sbaby4life you eve...</td>\n",
       "      <td>1</td>\n",
       "    </tr>\n",
       "    <tr>\n",
       "      <th>3</th>\n",
       "      <td>rt cganderson vivabased she look like a tranny</td>\n",
       "      <td>1</td>\n",
       "    </tr>\n",
       "    <tr>\n",
       "      <th>4</th>\n",
       "      <td>rt shenikaroberts the shit you hear about me ...</td>\n",
       "      <td>1</td>\n",
       "    </tr>\n",
       "  </tbody>\n",
       "</table>\n",
       "</div>"
      ],
      "text/plain": [
       "                                               tweet  class\n",
       "0   rt mayasolovely as a woman you shouldnt compl...      2\n",
       "1   rt mleew17 boy dats coldtyga dwn bad for cuff...      1\n",
       "2   rt urkindofbrand dawg rt 80sbaby4life you eve...      1\n",
       "3     rt cganderson vivabased she look like a tranny      1\n",
       "4   rt shenikaroberts the shit you hear about me ...      1"
      ]
     },
     "execution_count": 19,
     "metadata": {},
     "output_type": "execute_result"
    }
   ],
   "source": [
    "df.head()"
   ]
  },
  {
   "cell_type": "code",
   "execution_count": 20,
   "id": "59657b30-1fec-4a54-bed7-fa312cdbcedf",
   "metadata": {},
   "outputs": [
    {
     "name": "stderr",
     "output_type": "stream",
     "text": [
      "[nltk_data] Downloading package stopwords to C:\\Users\\Mohd\n",
      "[nltk_data]     Kaif\\AppData\\Roaming\\nltk_data...\n",
      "[nltk_data]   Package stopwords is already up-to-date!\n",
      "C:\\Users\\Mohd Kaif\\AppData\\Local\\Temp\\ipykernel_9860\\827983850.py:16: FutureWarning: The default value of regex will change from True to False in a future version.\n",
      "  df['tweet'] = df['tweet'].str.replace(regex_stopword, '')\n"
     ]
    }
   ],
   "source": [
    "import nltk\n",
    "from nltk.corpus import stopwords\n",
    "\n",
    "# Download stopwords if not already downloaded\n",
    "nltk.download('stopwords')\n",
    "\n",
    "# Get the list of English stopwords\n",
    "stop_words = set(stopwords.words('english'))\n",
    "\n",
    "# Remove stopwords from the 'tweet' column\n",
    "for stop_word in stop_words:\n",
    "    # Create a regex pattern for the stopword\n",
    "    regex_stopword = r\"\\b\" + stop_word + r\"\\b\"\n",
    "    \n",
    "    # Replace the stopword with an empty string in the 'tweet' column\n",
    "    df['tweet'] = df['tweet'].str.replace(regex_stopword, '')"
   ]
  },
  {
   "cell_type": "code",
   "execution_count": 21,
   "id": "d623e259-2d93-46f2-83cf-602782f5436d",
   "metadata": {},
   "outputs": [
    {
     "data": {
      "text/html": [
       "<div>\n",
       "<style scoped>\n",
       "    .dataframe tbody tr th:only-of-type {\n",
       "        vertical-align: middle;\n",
       "    }\n",
       "\n",
       "    .dataframe tbody tr th {\n",
       "        vertical-align: top;\n",
       "    }\n",
       "\n",
       "    .dataframe thead th {\n",
       "        text-align: right;\n",
       "    }\n",
       "</style>\n",
       "<table border=\"1\" class=\"dataframe\">\n",
       "  <thead>\n",
       "    <tr style=\"text-align: right;\">\n",
       "      <th></th>\n",
       "      <th>tweet</th>\n",
       "      <th>class</th>\n",
       "    </tr>\n",
       "  </thead>\n",
       "  <tbody>\n",
       "    <tr>\n",
       "      <th>0</th>\n",
       "      <td>rt mayasolovely   woman  shouldnt complain  c...</td>\n",
       "      <td>2</td>\n",
       "    </tr>\n",
       "    <tr>\n",
       "      <th>1</th>\n",
       "      <td>rt mleew17 boy dats coldtyga dwn bad  cuffin ...</td>\n",
       "      <td>1</td>\n",
       "    </tr>\n",
       "    <tr>\n",
       "      <th>2</th>\n",
       "      <td>rt urkindofbrand dawg rt 80sbaby4life  ever f...</td>\n",
       "      <td>1</td>\n",
       "    </tr>\n",
       "    <tr>\n",
       "      <th>3</th>\n",
       "      <td>rt cganderson vivabased  look like  tranny</td>\n",
       "      <td>1</td>\n",
       "    </tr>\n",
       "    <tr>\n",
       "      <th>4</th>\n",
       "      <td>rt shenikaroberts  shit  hear   might  true  ...</td>\n",
       "      <td>1</td>\n",
       "    </tr>\n",
       "  </tbody>\n",
       "</table>\n",
       "</div>"
      ],
      "text/plain": [
       "                                               tweet  class\n",
       "0   rt mayasolovely   woman  shouldnt complain  c...      2\n",
       "1   rt mleew17 boy dats coldtyga dwn bad  cuffin ...      1\n",
       "2   rt urkindofbrand dawg rt 80sbaby4life  ever f...      1\n",
       "3         rt cganderson vivabased  look like  tranny      1\n",
       "4   rt shenikaroberts  shit  hear   might  true  ...      1"
      ]
     },
     "execution_count": 21,
     "metadata": {},
     "output_type": "execute_result"
    }
   ],
   "source": [
    "df.head()"
   ]
  },
  {
   "cell_type": "code",
   "execution_count": 22,
   "id": "067b66f9-128a-489e-8da0-3a080072787d",
   "metadata": {},
   "outputs": [],
   "source": [
    "from sklearn.feature_extraction.text import CountVectorizer\n",
    "# Using Bag of Words approach for final data Preparation\n",
    "cv = CountVectorizer(max_features=75)\n",
    "X = cv.fit_transform(df['tweet']).toarray()\n",
    "y = df['class']"
   ]
  },
  {
   "cell_type": "code",
   "execution_count": 23,
   "id": "bade7e68-38ed-4019-8fc2-d2f093e47176",
   "metadata": {},
   "outputs": [],
   "source": [
    "from sklearn.model_selection import train_test_split\n",
    "# Splitting the Data using Stratified split\n",
    "X_train, X_test, y_train, y_test = train_test_split(X, y, test_size=0.3, stratify=y, random_state=42)"
   ]
  },
  {
   "cell_type": "code",
   "execution_count": 24,
   "id": "fb0c4415-a52e-48c1-8fcb-937aef0329b3",
   "metadata": {},
   "outputs": [],
   "source": [
    "import itertools\n",
    "import numpy as np\n",
    "import matplotlib.pyplot as plt\n",
    "from sklearn.ensemble import RandomForestClassifier\n",
    "from sklearn.metrics import accuracy_score, confusion_matrix\n",
    "from joblib import dump"
   ]
  },
  {
   "cell_type": "code",
   "execution_count": 25,
   "id": "3f3f8c20-3e64-4a35-8c89-35c93ef33e1b",
   "metadata": {},
   "outputs": [],
   "source": [
    "def plot_confusion_matrix(cm, classes, normalize=False, title='Confusion matrix', cmap=plt.cm.Greens):\n",
    "    plt.imshow(cm, interpolation='nearest', cmap=cmap)\n",
    "    plt.title(title)\n",
    "    plt.colorbar()\n",
    "    tick_marks = np.arange(len(classes))\n",
    "    plt.xticks(tick_marks, classes, rotation=45)\n",
    "    plt.yticks(tick_marks, classes)\n",
    "\n",
    "    if normalize:\n",
    "        cm = cm.astype('float') / cm.sum(axis=1)[:, np.newaxis]\n",
    "\n",
    "    thresh = cm.max() / 2.\n",
    "    for i, j in itertools.product(range(cm.shape[0]), range(cm.shape[1])):\n",
    "        plt.text(j, i, cm[i, j], horizontalalignment=\"center\", color=\"white\" if cm[i, j] > thresh else \"black\")\n",
    "\n",
    "    plt.tight_layout()\n",
    "    plt.ylabel('True label')\n",
    "    plt.xlabel('Predicted label')\n",
    "    plt.show()"
   ]
  },
  {
   "cell_type": "code",
   "execution_count": 26,
   "id": "3fc244de-1c2f-491a-afde-1440e28d211d",
   "metadata": {},
   "outputs": [],
   "source": [
    "# Train the Random Forest Classifier\n",
    "clf = RandomForestClassifier(n_estimators=10).fit(X_train, y_train)"
   ]
  },
  {
   "cell_type": "code",
   "execution_count": 27,
   "id": "135b9992-4b77-4af9-9860-2a632143d297",
   "metadata": {},
   "outputs": [
    {
     "name": "stdout",
     "output_type": "stream",
     "text": [
      "Accuracy: 0.83\n"
     ]
    }
   ],
   "source": [
    "# Make predictions and evaluate accuracy\n",
    "y_pred = clf.predict(X_test)\n",
    "accuracy = accuracy_score(y_test, y_pred)\n",
    "print(\"Accuracy: {:.2f}\".format(accuracy))"
   ]
  },
  {
   "cell_type": "code",
   "execution_count": 28,
   "id": "731cc16f-4086-4e1a-af60-23baca1231f2",
   "metadata": {},
   "outputs": [
    {
     "data": {
      "image/png": "[encoded data removed]",
      "text/plain": [
       "<Figure size 640x480 with 2 Axes>"
      ]
     },
     "metadata": {},
     "output_type": "display_data"
    },
    {
     "data": {
      "text/plain": [
       "['rf.joblib']"
      ]
     },
     "execution_count": 28,
     "metadata": {},
     "output_type": "execute_result"
    }
   ],
   "source": [
    "# Generate and plot confusion matrix\n",
    "CM = confusion_matrix(y_test, y_pred)\n",
    "plot_confusion_matrix(CM, classes=range(3))\n",
    "# Save the trained model\n",
    "dump(clf, 'rf.joblib')"
   ]
  },
  {
   "cell_type": "code",
   "execution_count": 29,
   "id": "2dfa485f-031e-4e04-88bf-c0a330d7e6fc",
   "metadata": {},
   "outputs": [],
   "source": [
    "from sklearn.tree import DecisionTreeClassifier\n",
    "from joblib import dump"
   ]
  },
  {
   "cell_type": "code",
   "execution_count": 30,
   "id": "42498c26-52a0-4cf6-8259-f96749513d91",
   "metadata": {},
   "outputs": [],
   "source": [
    "# Train the Decision Tree Classifier\n",
    "clf = DecisionTreeClassifier().fit(X_train, y_train)"
   ]
  },
  {
   "cell_type": "code",
   "execution_count": 31,
   "id": "81559961-a18a-49a2-940b-2d5c8e912ac0",
   "metadata": {},
   "outputs": [
    {
     "name": "stdout",
     "output_type": "stream",
     "text": [
      "Accuracy: 0.82\n"
     ]
    }
   ],
   "source": [
    "# Make predictions and evaluate accuracy\n",
    "y_pred = clf.predict(X_test)\n",
    "accuracy = accuracy_score(y_test, y_pred)\n",
    "print(f\"Accuracy: {accuracy:.2f}\")"
   ]
  },
  {
   "cell_type": "code",
   "execution_count": 32,
   "id": "b68e9e7c-5334-4c1f-a166-4abf8ad37bda",
   "metadata": {},
   "outputs": [
    {
     "data": {
      "image/png": "[encoded data removed]",
      "text/plain": [
       "<Figure size 640x480 with 2 Axes>"
      ]
     },
     "metadata": {},
     "output_type": "display_data"
    }
   ],
   "source": [
    "# Generate and plot confusion matrix\n",
    "CM = confusion_matrix(y_test, y_pred)\n",
    "plot_confusion_matrix(CM, classes=range(3))"
   ]
  },
  {
   "cell_type": "code",
   "execution_count": 33,
   "id": "2e1621af-aed5-4970-a723-bc569b398602",
   "metadata": {},
   "outputs": [
    {
     "data": {
      "text/plain": [
       "['decision.joblib']"
      ]
     },
     "execution_count": 33,
     "metadata": {},
     "output_type": "execute_result"
    }
   ],
   "source": [
    "# Save the trained model\n",
    "dump(clf, 'decision.joblib')"
   ]
  },
  {
   "cell_type": "code",
   "execution_count": 34,
   "id": "9d69569e-711b-461d-b527-3bf35e2119a8",
   "metadata": {},
   "outputs": [],
   "source": [
    "from sklearn.ensemble import AdaBoostClassifier\n",
    "from joblib import dump"
   ]
  },
  {
   "cell_type": "code",
   "execution_count": 35,
   "id": "27bcbf82-8c2c-4453-8f8d-e27fc11d2e01",
   "metadata": {},
   "outputs": [],
   "source": [
    "# Train the AdaBoost Classifier\n",
    "clf = AdaBoostClassifier(n_estimators=100).fit(X_train, y_train)"
   ]
  },
  {
   "cell_type": "code",
   "execution_count": 36,
   "id": "a29d8901-e830-47c5-a80a-149c59bfada1",
   "metadata": {},
   "outputs": [
    {
     "name": "stdout",
     "output_type": "stream",
     "text": [
      "Accuracy: 0.84\n"
     ]
    }
   ],
   "source": [
    "# Make predictions and evaluate accuracy\n",
    "y_pred = clf.predict(X_test)\n",
    "accuracy = accuracy_score(y_test, y_pred)\n",
    "print(f\"Accuracy: {accuracy:.2f}\")"
   ]
  },
  {
   "cell_type": "code",
   "execution_count": 37,
   "id": "dd4592cb-efec-4987-9784-917b044754d5",
   "metadata": {},
   "outputs": [
    {
     "data": {
      "image/png": "[encoded data removed]",
      "text/plain": [
       "<Figure size 640x480 with 2 Axes>"
      ]
     },
     "metadata": {},
     "output_type": "display_data"
    }
   ],
   "source": [
    "# Generate and plot confusion matrix\n",
    "CM = confusion_matrix(y_test, y_pred)\n",
    "plot_confusion_matrix(CM, classes=range(3))"
   ]
  },
  {
   "cell_type": "code",
   "execution_count": 38,
   "id": "b27f00f3-3419-46e0-98a7-f41ea68d4da6",
   "metadata": {},
   "outputs": [
    {
     "data": {
      "text/plain": [
       "['ada.joblib']"
      ]
     },
     "execution_count": 38,
     "metadata": {},
     "output_type": "execute_result"
    }
   ],
   "source": [
    "# Save the trained model\n",
    "dump(clf, 'ada.joblib')"
   ]
  },
  {
   "cell_type": "code",
   "execution_count": 39,
   "id": "c8fc8652-de89-4a92-922e-7c91f1bae897",
   "metadata": {},
   "outputs": [
    {
     "name": "stdout",
     "output_type": "stream",
     "text": [
      "WARNING:tensorflow:From C:\\Users\\Mohd Kaif\\AppData\\Local\\Programs\\Python\\Python310\\lib\\site-packages\\keras\\src\\losses.py:2976: The name tf.losses.sparse_softmax_cross_entropy is deprecated. Please use tf.compat.v1.losses.sparse_softmax_cross_entropy instead.\n",
      "\n"
     ]
    }
   ],
   "source": [
    "from tensorflow.keras.utils import to_categorical\n",
    "# Convert labels to categorical format\n",
    "y_train = to_categorical(y_train, num_classes=3, dtype='float32')\n",
    "y_test = to_categorical(y_test, num_classes=3, dtype='float32')"
   ]
  },
  {
   "cell_type": "code",
   "execution_count": 40,
   "id": "9be0a65d-ad07-4706-ab24-daaba54f8fa0",
   "metadata": {},
   "outputs": [
    {
     "name": "stdout",
     "output_type": "stream",
     "text": [
      "WARNING:tensorflow:From C:\\Users\\Mohd Kaif\\AppData\\Local\\Programs\\Python\\Python310\\lib\\site-packages\\keras\\src\\backend.py:873: The name tf.get_default_graph is deprecated. Please use tf.compat.v1.get_default_graph instead.\n",
      "\n",
      "WARNING:tensorflow:From C:\\Users\\Mohd Kaif\\AppData\\Local\\Programs\\Python\\Python310\\lib\\site-packages\\keras\\src\\optimizers\\__init__.py:309: The name tf.train.Optimizer is deprecated. Please use tf.compat.v1.train.Optimizer instead.\n",
      "\n",
      "Epoch 1/25\n",
      "WARNING:tensorflow:From C:\\Users\\Mohd Kaif\\AppData\\Local\\Programs\\Python\\Python310\\lib\\site-packages\\keras\\src\\utils\\tf_utils.py:492: The name tf.ragged.RaggedTensorValue is deprecated. Please use tf.compat.v1.ragged.RaggedTensorValue instead.\n",
      "\n",
      "WARNING:tensorflow:From C:\\Users\\Mohd Kaif\\AppData\\Local\\Programs\\Python\\Python310\\lib\\site-packages\\keras\\src\\engine\\base_layer_utils.py:384: The name tf.executing_eagerly_outside_functions is deprecated. Please use tf.compat.v1.executing_eagerly_outside_functions instead.\n",
      "\n",
      "272/272 [==============================] - 92s 310ms/step - loss: 0.4252 - accuracy: 0.7675 - val_loss: 0.4025 - val_accuracy: 0.7743\n",
      "Epoch 2/25\n",
      "272/272 [==============================] - 79s 290ms/step - loss: 0.4027 - accuracy: 0.7743 - val_loss: 0.4025 - val_accuracy: 0.7743\n",
      "Epoch 3/25\n",
      "272/272 [==============================] - 82s 302ms/step - loss: 0.4026 - accuracy: 0.7743 - val_loss: 0.4024 - val_accuracy: 0.7743\n",
      "Epoch 4/25\n",
      "272/272 [==============================] - 81s 299ms/step - loss: 0.4027 - accuracy: 0.7743 - val_loss: 0.4024 - val_accuracy: 0.7743\n",
      "Epoch 5/25\n",
      "272/272 [==============================] - 78s 289ms/step - loss: 0.4027 - accuracy: 0.7743 - val_loss: 0.4024 - val_accuracy: 0.7743\n",
      "Epoch 6/25\n",
      "272/272 [==============================] - 85s 314ms/step - loss: 0.4025 - accuracy: 0.7743 - val_loss: 0.4019 - val_accuracy: 0.7743\n",
      "Epoch 7/25\n",
      "272/272 [==============================] - 80s 294ms/step - loss: 0.4019 - accuracy: 0.7743 - val_loss: 0.4015 - val_accuracy: 0.7743\n",
      "Epoch 8/25\n",
      "272/272 [==============================] - 84s 307ms/step - loss: 0.4010 - accuracy: 0.7743 - val_loss: 0.4017 - val_accuracy: 0.7743\n",
      "Epoch 9/25\n",
      "272/272 [==============================] - 89s 328ms/step - loss: 0.4006 - accuracy: 0.7743 - val_loss: 0.4004 - val_accuracy: 0.7743\n",
      "Epoch 10/25\n",
      "272/272 [==============================] - 82s 301ms/step - loss: 0.4006 - accuracy: 0.7743 - val_loss: 0.4003 - val_accuracy: 0.7743\n",
      "Epoch 11/25\n",
      "272/272 [==============================] - 79s 290ms/step - loss: 0.3999 - accuracy: 0.7743 - val_loss: 0.3997 - val_accuracy: 0.7743\n",
      "Epoch 12/25\n",
      "272/272 [==============================] - 74s 274ms/step - loss: 0.3990 - accuracy: 0.7743 - val_loss: 0.3956 - val_accuracy: 0.7743\n",
      "Epoch 13/25\n",
      "272/272 [==============================] - 84s 308ms/step - loss: 0.3967 - accuracy: 0.7743 - val_loss: 0.3923 - val_accuracy: 0.7743\n",
      "Epoch 14/25\n",
      "272/272 [==============================] - 82s 303ms/step - loss: 0.3953 - accuracy: 0.7743 - val_loss: 0.3911 - val_accuracy: 0.7743\n",
      "Epoch 15/25\n",
      "272/272 [==============================] - 82s 303ms/step - loss: 0.3947 - accuracy: 0.7743 - val_loss: 0.3908 - val_accuracy: 0.7743\n",
      "Epoch 16/25\n",
      "272/272 [==============================] - 83s 305ms/step - loss: 0.3941 - accuracy: 0.7743 - val_loss: 0.3922 - val_accuracy: 0.7743\n",
      "Epoch 17/25\n",
      "272/272 [==============================] - 81s 299ms/step - loss: 0.3935 - accuracy: 0.7743 - val_loss: 0.3896 - val_accuracy: 0.7743\n",
      "Epoch 18/25\n",
      "272/272 [==============================] - 83s 307ms/step - loss: 0.3931 - accuracy: 0.7744 - val_loss: 0.3893 - val_accuracy: 0.7743\n",
      "Epoch 19/25\n",
      "272/272 [==============================] - 81s 297ms/step - loss: 0.3932 - accuracy: 0.7744 - val_loss: 0.3889 - val_accuracy: 0.7743\n",
      "Epoch 20/25\n",
      "272/272 [==============================] - 78s 287ms/step - loss: 0.3927 - accuracy: 0.7740 - val_loss: 0.3896 - val_accuracy: 0.7746\n",
      "Epoch 21/25\n",
      "272/272 [==============================] - 83s 305ms/step - loss: 0.3923 - accuracy: 0.7746 - val_loss: 0.3872 - val_accuracy: 0.7743\n",
      "Epoch 22/25\n",
      "272/272 [==============================] - 81s 298ms/step - loss: 0.3808 - accuracy: 0.7761 - val_loss: 0.3905 - val_accuracy: 0.7743\n",
      "Epoch 23/25\n",
      "272/272 [==============================] - 77s 283ms/step - loss: 0.3930 - accuracy: 0.7751 - val_loss: 0.3904 - val_accuracy: 0.7743\n",
      "Epoch 24/25\n",
      "272/272 [==============================] - 76s 279ms/step - loss: 0.3920 - accuracy: 0.7743 - val_loss: 0.3817 - val_accuracy: 0.7743\n",
      "Epoch 25/25\n",
      "272/272 [==============================] - 75s 277ms/step - loss: 0.3559 - accuracy: 0.7828 - val_loss: 0.3504 - val_accuracy: 0.7707\n"
     ]
    }
   ],
   "source": [
    "from tensorflow.keras.models import Sequential\n",
    "from tensorflow.keras.layers import Embedding, SpatialDropout1D, LSTM, Dense\n",
    "# Create and compile the LSTM model\n",
    "model = Sequential([\n",
    "    Embedding(232337, 100, input_length=X_train.shape[1]),\n",
    "    SpatialDropout1D(0.2),\n",
    "    LSTM(20, dropout=0.2, recurrent_dropout=0.2),\n",
    "    Dense(3, activation='softmax')\n",
    "])\n",
    "model.compile(loss='binary_crossentropy', optimizer='adam', metrics=['accuracy'])\n",
    "# Train the model\n",
    "history = model.fit(X_train, y_train, validation_data=(X_test, y_test), epochs=25, batch_size=64)"
   ]
  },
  {
   "cell_type": "code",
   "execution_count": 41,
   "id": "4f6d9337-d2ed-48fd-9728-b1af5b927fe9",
   "metadata": {},
   "outputs": [
    {
     "data": {
      "image/png": "[encoded data removed]",
      "text/plain": [
       "<Figure size 1200x600 with 2 Axes>"
      ]
     },
     "metadata": {},
     "output_type": "display_data"
    }
   ],
   "source": [
    "import matplotlib.pyplot as plt\n",
    "# Extracting training and validation accuracy, loss from the history\n",
    "acc = history.history['accuracy']\n",
    "val_acc = history.history['val_accuracy']\n",
    "loss = history.history['loss']\n",
    "val_loss = history.history['val_loss']\n",
    "epochs = range(1, len(acc) + 1)\n",
    "# Plotting Training and Validation Accuracy\n",
    "plt.figure(figsize=(12, 6))\n",
    "plt.subplot(1, 2, 1)\n",
    "plt.plot(epochs, acc, 'bo', label='Training accuracy')\n",
    "plt.plot(epochs, val_acc, 'r', label='Validation accuracy')\n",
    "plt.title('Training and Validation Accuracy')\n",
    "plt.xlabel('Epochs')\n",
    "plt.ylabel('Accuracy')\n",
    "plt.grid(True)\n",
    "plt.legend()\n",
    "# Plotting Training and Validation Loss\n",
    "plt.subplot(1, 2, 2)\n",
    "plt.plot(epochs, loss, 'bo', label='Training loss')\n",
    "plt.plot(epochs, val_loss, 'r', label='Validation loss')\n",
    "plt.title('Training and Validation Loss')\n",
    "plt.xlabel('Epochs')\n",
    "plt.ylabel('Loss')\n",
    "plt.grid(True)\n",
    "plt.legend()\n",
    "plt.tight_layout()  # Adjust layout to prevent overlap\n",
    "plt.show()"
   ]
  },
  {
   "cell_type": "code",
   "execution_count": 42,
   "id": "072c3382-4e03-49f5-adcb-443a649a0937",
   "metadata": {},
   "outputs": [
    {
     "name": "stderr",
     "output_type": "stream",
     "text": [
      "C:\\Users\\Mohd Kaif\\AppData\\Local\\Programs\\Python\\Python310\\lib\\site-packages\\keras\\src\\engine\\training.py:3103: UserWarning: You are saving your model as an HDF5 file via `model.save()`. This file format is considered legacy. We recommend using instead the native Keras format, e.g. `model.save('my_model.keras')`.\n",
      "  saving_api.save_model(\n"
     ]
    }
   ],
   "source": [
    "model.save('lstm.h5')"
   ]
  },
  {
   "cell_type": "code",
   "execution_count": null,
   "id": "b227d107-126e-4993-ac12-7b1b44f7dd84",
   "metadata": {},
   "outputs": [],
   "source": []
  }
 ],
 "metadata": {
  "kernelspec": {
   "display_name": "Python 3 (ipykernel)",
   "language": "python",
   "name": "python3"
  },
  "language_info": {
   "codemirror_mode": {
    "name": "ipython",
    "version": 3
   },
   "file_extension": ".py",
   "mimetype": "text/x-python",
   "name": "python",
   "nbconvert_exporter": "python",
   "pygments_lexer": "ipython3",
   "version": "3.10.10"
  }
 },
 "nbformat": 4,
 "nbformat_minor": 5
}
